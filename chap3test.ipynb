{
  "nbformat": 4,
  "nbformat_minor": 0,
  "metadata": {
    "colab": {
      "provenance": [],
      "mount_file_id": "1Bn6hFZEE94b49ZgUMxdFrcdEnrbUAX9j",
      "authorship_tag": "ABX9TyMC4VcDmwWIUclPAyYf/80d"
    },
    "kernelspec": {
      "name": "python3",
      "display_name": "Python 3"
    },
    "language_info": {
      "name": "python"
    }
  },
  "cells": [
    {
      "cell_type": "code",
      "execution_count": null,
      "metadata": {
        "id": "GdodOmtaQLfP"
      },
      "outputs": [],
      "source": []
    },
    {
      "cell_type": "markdown",
      "source": [
        "## **a는 수강 학점이고 수강학점을 출력하는 코드**"
      ],
      "metadata": {
        "id": "ZBSowTQMQOhY"
      }
    },
    {
      "cell_type": "code",
      "source": [
        "a = 10\n",
        "print(a)"
      ],
      "metadata": {
        "id": "-18CJgZfQMkS"
      },
      "execution_count": null,
      "outputs": []
    }
  ]
}