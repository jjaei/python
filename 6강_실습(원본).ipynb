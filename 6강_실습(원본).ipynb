{
  "nbformat": 4,
  "nbformat_minor": 0,
  "metadata": {
    "colab": {
      "provenance": [],
      "include_colab_link": true
    },
    "kernelspec": {
      "name": "python3",
      "display_name": "Python 3"
    },
    "language_info": {
      "name": "python"
    }
  },
  "cells": [
    {
      "cell_type": "markdown",
      "metadata": {
        "id": "view-in-github",
        "colab_type": "text"
      },
      "source": [
        "<a href=\"https://colab.research.google.com/github/jjaei/python-programming/blob/main/6%EA%B0%95_%EC%8B%A4%EC%8A%B5(%EC%9B%90%EB%B3%B8).ipynb\" target=\"_parent\"><img src=\"https://colab.research.google.com/assets/colab-badge.svg\" alt=\"Open In Colab\"/></a>"
      ]
    },
    {
      "cell_type": "markdown",
      "source": [
        "# 6장 1절"
      ],
      "metadata": {
        "id": "hckgpz65oDBv"
      }
    },
    {
      "cell_type": "code",
      "execution_count": 29,
      "metadata": {
        "id": "ZW1w8qQHoAm3",
        "colab": {
          "base_uri": "https://localhost:8080/"
        },
        "outputId": "38bd2ab9-a0da-4641-e618-b067001e58d2"
      },
      "outputs": [
        {
          "output_type": "stream",
          "name": "stdout",
          "text": [
            "반지름을 입력하세요:20\n",
            "높이를 입력하세요:30\n",
            "원뿔의 부피는 12559.999999999998 입니다.\n",
            "원뿔의 겉넓이는 1318.8 입니다\n"
          ]
        }
      ],
      "source": [
        "#반지름 사용자 입력\n",
        "rad = int(input(\"반지름을 입력하세요:\"))\n",
        "#높이 사용자 입력\n",
        "hei = int(input(\"높이를 입력하세요:\"))\n",
        "#부피&겉넓이 계산\n",
        "if rad > 0 and hei > 0 :\n",
        "  # 부피 & 겉넓이 계산\n",
        "    vol = 1/3 * 3.14 * rad ** 2 * hei\n",
        "    suf = 3.14 * rad ** 2 + 3.14 * rad\n",
        "    print(\"원뿔의 부피는\" ,vol, \"입니다.\")\n",
        "    print(\"원뿔의 겉넓이는\" ,suf, \"입니다\")\n",
        "else :\n",
        "    print(\"반지름과 높이의 값을 모두 양수로 입력해주세요.\")\n"
      ]
    },
    {
      "cell_type": "code",
      "source": [
        "3 > 6"
      ],
      "metadata": {
        "colab": {
          "base_uri": "https://localhost:8080/"
        },
        "id": "cijva6I8Mmdx",
        "outputId": "a3fdb420-eaa8-4472-c4f7-599ad4539951"
      },
      "execution_count": 4,
      "outputs": [
        {
          "output_type": "execute_result",
          "data": {
            "text/plain": [
              "True"
            ]
          },
          "metadata": {},
          "execution_count": 4
        }
      ]
    },
    {
      "cell_type": "code",
      "source": [
        "3 < 6"
      ],
      "metadata": {
        "colab": {
          "base_uri": "https://localhost:8080/"
        },
        "id": "zfrmMPZqMsr7",
        "outputId": "982150de-cef5-4eac-df05-3fc6a6cd33d5"
      },
      "execution_count": 5,
      "outputs": [
        {
          "output_type": "execute_result",
          "data": {
            "text/plain": [
              "True"
            ]
          },
          "metadata": {},
          "execution_count": 5
        }
      ]
    },
    {
      "cell_type": "code",
      "source": [
        "3 == 6"
      ],
      "metadata": {
        "colab": {
          "base_uri": "https://localhost:8080/"
        },
        "id": "I8fQEwb-Mtwf",
        "outputId": "36c1f10e-6b37-4ce2-dc80-add0066ca91f"
      },
      "execution_count": 6,
      "outputs": [
        {
          "output_type": "execute_result",
          "data": {
            "text/plain": [
              "False"
            ]
          },
          "metadata": {},
          "execution_count": 6
        }
      ]
    },
    {
      "cell_type": "code",
      "source": [
        "3 != 6"
      ],
      "metadata": {
        "colab": {
          "base_uri": "https://localhost:8080/"
        },
        "id": "CEMNWK8aMwMr",
        "outputId": "58f1b654-811c-4480-a7ca-f612258e91b3"
      },
      "execution_count": 7,
      "outputs": [
        {
          "output_type": "execute_result",
          "data": {
            "text/plain": [
              "True"
            ]
          },
          "metadata": {},
          "execution_count": 7
        }
      ]
    },
    {
      "cell_type": "code",
      "source": [
        "rad = 10\n",
        "rad == 10"
      ],
      "metadata": {
        "colab": {
          "base_uri": "https://localhost:8080/"
        },
        "id": "OpYHePt3M30i",
        "outputId": "04beb48f-4931-4ccc-ba43-f092f09037ba"
      },
      "execution_count": 8,
      "outputs": [
        {
          "output_type": "execute_result",
          "data": {
            "text/plain": [
              "True"
            ]
          },
          "metadata": {},
          "execution_count": 8
        }
      ]
    },
    {
      "cell_type": "code",
      "source": [
        "light_on = 3 > 6\n",
        "print(light_on)"
      ],
      "metadata": {
        "colab": {
          "base_uri": "https://localhost:8080/"
        },
        "id": "7r66IP0pM5su",
        "outputId": "da5bb293-36f4-4091-f431-8aabb04130cb"
      },
      "execution_count": 10,
      "outputs": [
        {
          "output_type": "stream",
          "name": "stdout",
          "text": [
            "False\n"
          ]
        }
      ]
    },
    {
      "cell_type": "code",
      "source": [
        "suf = 10\n",
        "vol = 20\n",
        "isStop = suf == vol\n",
        "print(isStop)"
      ],
      "metadata": {
        "colab": {
          "base_uri": "https://localhost:8080/"
        },
        "id": "xm_veCSxM9Ii",
        "outputId": "74c11148-6bbf-41cd-e851-86247e5968c3"
      },
      "execution_count": 12,
      "outputs": [
        {
          "output_type": "stream",
          "name": "stdout",
          "text": [
            "False\n"
          ]
        }
      ]
    },
    {
      "cell_type": "code",
      "source": [
        "temp = 20\n",
        "fruit = \"apple\"\n",
        "print(temp >= 27 and fruit == \"pear\")\n",
        "print(temp <= 27 or fruit == \"pear\")\n",
        "print(not temp <= 27)"
      ],
      "metadata": {
        "colab": {
          "base_uri": "https://localhost:8080/"
        },
        "id": "1bwfYw_FPbiH",
        "outputId": "0f98b0bd-4323-488e-b462-f00d6cd0a206"
      },
      "execution_count": 26,
      "outputs": [
        {
          "output_type": "stream",
          "name": "stdout",
          "text": [
            "False\n",
            "True\n",
            "False\n"
          ]
        }
      ]
    },
    {
      "cell_type": "markdown",
      "source": [
        "# 6강 2절"
      ],
      "metadata": {
        "id": "cquz2vj9oGml"
      }
    },
    {
      "cell_type": "markdown",
      "source": [
        "가장 큰 수 찾는 프로그램"
      ],
      "metadata": {
        "id": "_2ZlVieZpKuT"
      }
    },
    {
      "cell_type": "code",
      "source": [
        "# A, B, C 사용자 입력\n",
        "A = int(input(\"A 입력: \"))\n",
        "B = int(input(\"B 입력: \"))\n",
        "C = int(input(\"C 입력: \"))\n",
        "\n",
        "# A, B, C 중 가장 큰 수 출력\n",
        "if A > B :\n",
        "    if A > C :\n",
        "        print(\"A\")\n",
        "    else :\n",
        "        print(\"C\")\n",
        "else :\n",
        "    if B > C :\n",
        "        print(\"B\")\n",
        "    else :\n",
        "        print(\"C\")"
      ],
      "metadata": {
        "colab": {
          "base_uri": "https://localhost:8080/"
        },
        "id": "kJussQ1XSMPP",
        "outputId": "3c235b98-b95a-48b3-f206-4300efef00a6"
      },
      "execution_count": 31,
      "outputs": [
        {
          "output_type": "stream",
          "name": "stdout",
          "text": [
            "A 입력: 10\n",
            "B 입력: 20\n",
            "C 입력: 22\n",
            "C\n"
          ]
        }
      ]
    }
  ]
}