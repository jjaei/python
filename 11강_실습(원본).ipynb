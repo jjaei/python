{
  "nbformat": 4,
  "nbformat_minor": 0,
  "metadata": {
    "colab": {
      "provenance": [],
      "include_colab_link": true
    },
    "kernelspec": {
      "name": "python3",
      "display_name": "Python 3"
    },
    "language_info": {
      "name": "python"
    }
  },
  "cells": [
    {
      "cell_type": "markdown",
      "metadata": {
        "id": "view-in-github",
        "colab_type": "text"
      },
      "source": [
        "<a href=\"https://colab.research.google.com/github/jjaei/python-programming/blob/main/11%EA%B0%95_%EC%8B%A4%EC%8A%B5(%EC%9B%90%EB%B3%B8).ipynb\" target=\"_parent\"><img src=\"https://colab.research.google.com/assets/colab-badge.svg\" alt=\"Open In Colab\"/></a>"
      ]
    },
    {
      "cell_type": "markdown",
      "source": [
        "# 11강 실습"
      ],
      "metadata": {
        "id": "EtjZiTaxLjdH"
      }
    },
    {
      "cell_type": "markdown",
      "source": [
        "**11강 1절 모듈의 이해**"
      ],
      "metadata": {
        "id": "dM5Jl78KLnIG"
      }
    },
    {
      "cell_type": "markdown",
      "source": [
        "dir, help 함수 테스트"
      ],
      "metadata": {
        "id": "jLudepg7Lv6Y"
      }
    },
    {
      "cell_type": "code",
      "execution_count": 5,
      "metadata": {
        "id": "QjtNEdkcynR7",
        "colab": {
          "base_uri": "https://localhost:8080/"
        },
        "outputId": "2f71d874-3fa7-4518-954e-127d69618121"
      },
      "outputs": [
        {
          "output_type": "stream",
          "name": "stdout",
          "text": [
            "\n",
            "Welcome to Python 3.10's help utility!\n",
            "\n",
            "If this is your first time using Python, you should definitely check out\n",
            "the tutorial on the internet at https://docs.python.org/3.10/tutorial/.\n",
            "\n",
            "Enter the name of any module, keyword, or topic to get help on writing\n",
            "Python programs and using Python modules.  To quit this help utility and\n",
            "return to the interpreter, just type \"quit\".\n",
            "\n",
            "To get a list of available modules, keywords, symbols, or topics, type\n",
            "\"modules\", \"keywords\", \"symbols\", or \"topics\".  Each module also comes\n",
            "with a one-line summary of what it does; to list the modules whose name\n",
            "or summary contain a given string such as \"spam\", type \"modules spam\".\n",
            "\n",
            "\n",
            "You are now leaving help and returning to the Python interpreter.\n",
            "If you want to ask for help on a particular object directly from the\n",
            "interpreter, you can type \"help(object)\".  Executing \"help('string')\"\n",
            "has the same effect as typing a particular string at the help> prompt.\n"
          ]
        }
      ],
      "source": [
        "# 네임스페이스에 등록되어 있는 모든 이름들을 리스트로 반환\n",
        "dir()\n",
        "# 대화형 도움말 시스템 호출 또는 클래스나 메소드의 사용방법 반환\n",
        "help()"
      ]
    },
    {
      "cell_type": "markdown",
      "source": [
        "math 모듈을 사용한 원뿔 계산 프로그램"
      ],
      "metadata": {
        "id": "BZcxx1KcM2eF"
      }
    },
    {
      "cell_type": "code",
      "source": [
        "import math\n",
        "print(math.pi)\n",
        "# 원뿔 클래스 정의\n",
        "class Cone :\n",
        "    def __init__(self, radius = 20, height = 30):\n",
        "        self.r = radius\n",
        "        self.h = height\n",
        "\n",
        "    def get_vol(self) :\n",
        "        return 1/3 * math.pi * self.r ** 2 * self.h\n",
        "\n",
        "    def get_surf(self) :\n",
        "        return math.pi * self.r ** 2 + math.pi * self.r * self.h\n"
      ],
      "metadata": {
        "id": "ZJwXQoQIM7uw",
        "colab": {
          "base_uri": "https://localhost:8080/"
        },
        "outputId": "803e35fa-c271-420c-f680-8da8dc8f5a29"
      },
      "execution_count": null,
      "outputs": [
        {
          "output_type": "stream",
          "name": "stdout",
          "text": [
            "3.141592653589793\n"
          ]
        }
      ]
    },
    {
      "cell_type": "markdown",
      "source": [
        "**11강 2절 유용한 모듈**"
      ],
      "metadata": {
        "id": "MwGVxn3sLy8T"
      }
    },
    {
      "cell_type": "markdown",
      "source": [
        "두 변의 길이 a, b와 끼인각 α인 삼각형의 넓이를 구하는 프로그램을 작성하시오.\n"
      ],
      "metadata": {
        "id": "A2gzGR3nM8nI"
      }
    },
    {
      "cell_type": "code",
      "source": [
        "import math\n",
        "from math import sin\n",
        "a, b = 10, 20\n",
        "area = 1 / 2 * a * b * sin(math.radians(60))\n",
        "print(area)"
      ],
      "metadata": {
        "id": "CK6KXvIv3IZV",
        "colab": {
          "base_uri": "https://localhost:8080/"
        },
        "outputId": "e1cd9d39-6129-4ce1-d9cd-d6efdabab261"
      },
      "execution_count": 8,
      "outputs": [
        {
          "output_type": "stream",
          "name": "stdout",
          "text": [
            "86.60254037844386\n"
          ]
        }
      ]
    },
    {
      "cell_type": "markdown",
      "source": [
        "1 ~ 45 숫자 6개를 입력 받아 당첨 숫자와\n",
        "비교하는 프로그램을 작성하시오.\n"
      ],
      "metadata": {
        "id": "UP6aKi22RoxB"
      }
    },
    {
      "cell_type": "code",
      "source": [
        "import random\n",
        "guess_str = input(\"1 ~ 45 사이의 번호 6개를 쉼표로 분리하여 입력하세요. : \").split(\", \")\n",
        "guess_list = list()\n",
        "\n",
        "for i in guess_str :\n",
        "    guess_list.append(int(i))\n",
        "\n",
        "lotto_list = random.sample(range(1, 46, 1), 6)\n",
        "print(\"예상 번호는\", guess_list, \"입니다.\")\n",
        "print(\"추첨 번호는\", lotto_list, \"입니다.\")\n",
        "hit_count = 0\n",
        "\n",
        "for j in guess_list :\n",
        "    if j in lotto_list :\n",
        "        hit_count = hit_count + 1\n",
        "print(\"축하합니다. \" + str(hit_count) + \"개의 번호가 맞았습니다.\")"
      ],
      "metadata": {
        "id": "Btr-jR2m3KZA",
        "colab": {
          "base_uri": "https://localhost:8080/"
        },
        "outputId": "c90bd1cd-af68-4762-c061-7c11c270fcef"
      },
      "execution_count": 12,
      "outputs": [
        {
          "output_type": "stream",
          "name": "stdout",
          "text": [
            "1 ~ 45 사이의 번호 6개를 쉼표로 분리하여 입력하세요. : 3, 7, 17, 22, 31, 34\n",
            "예상 번호는 [3, 7, 17, 22, 31, 34] 입니다.\n",
            "추첨 번호는 [30, 10, 15, 37, 40, 33] 입니다.\n",
            "축하합니다. 0개의 번호가 맞았습니다.\n"
          ]
        }
      ]
    },
    {
      "cell_type": "markdown",
      "source": [
        "20번의 기회 안에 1 ~ 1000 사이의 숫자를\n",
        "맞히는 스무고개 프로그램을 작성하시오.\n"
      ],
      "metadata": {
        "id": "dZ3mQM7hR7z5"
      }
    },
    {
      "cell_type": "code",
      "source": [
        "import random\n",
        "\n",
        "passfile = False\n",
        "hit_number = random.randint(1, 1001)\n",
        "guess_count_list = range(1, 21, 1)\n",
        "\n",
        "for guess_count in guess_count_list :\n",
        "    guess = int(input(\"숫자를 맞혀보세요.(\" + str(guess_count) + \"번째 시도) : \"))\n",
        "    if hit_number == guess :\n",
        "        passfail = True\n",
        "        break\n",
        "    elif hit_number > guess :\n",
        "        print(str(guess) + \"보다 큽니다.\", end=\"\")\n",
        "    else :\n",
        "        print(str(guess) + \"보다 작습니다.\", end=\"\")\n",
        "\n",
        "if passfail == True :\n",
        "    print(\"축하합니다. 정답입니다.\")\n",
        "else :\n",
        "    print(\"모든 기회를 다 사용하셨습니다. 다음에 다시 도전하세요.\")"
      ],
      "metadata": {
        "id": "XhmZvkWVSA9Z",
        "colab": {
          "base_uri": "https://localhost:8080/"
        },
        "outputId": "4a338e86-32bc-4458-ca17-70e3d21bb6ad"
      },
      "execution_count": 20,
      "outputs": [
        {
          "output_type": "stream",
          "name": "stdout",
          "text": [
            "숫자를 맞혀보세요.(1번째 시도) : 500\n",
            "500보다 작습니다.숫자를 맞혀보세요.(2번째 시도) : 300\n",
            "300보다 큽니다.숫자를 맞혀보세요.(3번째 시도) : 400\n",
            "400보다 큽니다.숫자를 맞혀보세요.(4번째 시도) : 450\n",
            "450보다 큽니다.숫자를 맞혀보세요.(5번째 시도) : 470\n",
            "470보다 큽니다.숫자를 맞혀보세요.(6번째 시도) : 480\n",
            "480보다 큽니다.숫자를 맞혀보세요.(7번째 시도) : 490\n",
            "490보다 작습니다.숫자를 맞혀보세요.(8번째 시도) : 488\n",
            "488보다 작습니다.숫자를 맞혀보세요.(9번째 시도) : 486\n",
            "486보다 작습니다.숫자를 맞혀보세요.(10번째 시도) : 484\n",
            "484보다 작습니다.숫자를 맞혀보세요.(11번째 시도) : 483\n",
            "축하합니다. 정답입니다.\n"
          ]
        }
      ]
    },
    {
      "cell_type": "markdown",
      "source": [
        "1000보다 작은 소수 찾기 프로그램"
      ],
      "metadata": {
        "id": "EdHUe1hr3bho"
      }
    },
    {
      "cell_type": "code",
      "source": [],
      "metadata": {
        "id": "b0odUfVq3bNF"
      },
      "execution_count": null,
      "outputs": []
    }
  ]
}